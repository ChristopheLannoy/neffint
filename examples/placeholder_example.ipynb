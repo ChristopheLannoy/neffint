{
 "cells": [
  {
   "attachments": {},
   "cell_type": "markdown",
   "metadata": {},
   "source": [
    "# PLACEHOLDER\n",
    "\n",
    "This file is a placeholder for example files that will be added at a later date.\n",
    "\n",
    "It was added in order to initialize repository structure."
   ]
  }
 ],
 "metadata": {
  "language_info": {
   "name": "python"
  },
  "orig_nbformat": 4
 },
 "nbformat": 4,
 "nbformat_minor": 2
}
