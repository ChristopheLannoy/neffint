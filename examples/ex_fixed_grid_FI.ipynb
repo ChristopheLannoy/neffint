{
 "cells": [
  {
   "attachments": {},
   "cell_type": "markdown",
   "metadata": {},
   "source": [
    "\n",
    "# Example usage of fixed grid Fourier integration\n",
    "\n",
    "This notebook shows how neffint.fourier_integral_fixed_sampling can be used to calculate Fourier integrals. This function is well suited for computing the Fourier integrals of functions on a already defined frequency grid which captures all important features of the function to be transformed. More precisely, interpolating the function over the given frequencies should give an interpolating polynomial which closely approximates the function itself.\n"
   ]
  },
  {
   "attachments": {},
   "cell_type": "markdown",
   "metadata": {},
   "source": [
    "#### Do imports"
   ]
  },
  {
   "cell_type": "code",
   "execution_count": null,
   "metadata": {},
   "outputs": [],
   "source": [
    "import matplotlib.pyplot as plt\n",
    "import numpy as np\n",
    "from numpy.typing import ArrayLike\n",
    "\n",
    "import neffint as nft"
   ]
  },
  {
   "attachments": {},
   "cell_type": "markdown",
   "metadata": {},
   "source": [
    "#### Define some functions to measure error\n",
    "\n",
    "This is mainly for plotting later."
   ]
  },
  {
   "cell_type": "code",
   "execution_count": null,
   "metadata": {},
   "outputs": [],
   "source": [
    "def relative_diff(x: float, y: float) -> float:\n",
    "    \"\"\"Relative difference\"\"\"\n",
    "    if max(abs(x), abs(y)) == 0:\n",
    "        return 0\n",
    "    return abs(x-y)/max(abs(x), abs(y))\n",
    "relative_diff = np.vectorize(relative_diff)\n",
    "\n",
    "def absolute_diff(x: ArrayLike, y: ArrayLike):\n",
    "    \"\"\"Absolute difference\"\"\"\n",
    "    return np.abs(x-y)"
   ]
  },
  {
   "attachments": {},
   "cell_type": "markdown",
   "metadata": {},
   "source": [
    "#### Define a function\n",
    "\n",
    "Here, we choose a function where we know analytically what the Fourier integral is, for testing purposes. Of course, in a real setting, one would choose a function without any analytically known Fourier integral."
   ]
  },
  {
   "cell_type": "code",
   "execution_count": null,
   "metadata": {},
   "outputs": [],
   "source": [
    "def inv_sqrt(f: ArrayLike) -> ArrayLike:\n",
    "    return 1 / np.sqrt(2*np.pi*f)\n",
    "\n",
    "# The analytic fourier integral of inv_sqrt\n",
    "def inv_sqrt_analytic_integral(t: ArrayLike):\n",
    "    return np.sqrt(np.pi / (2 * t))\n"
   ]
  },
  {
   "attachments": {},
   "cell_type": "markdown",
   "metadata": {},
   "source": [
    "#### Define frequencies and times\n",
    "Define some frequencies that catch the most important features for the function to be transformed, and calculate the function for those times.\n",
    "\n",
    "Also define the times you want to calculate the integral for."
   ]
  },
  {
   "cell_type": "code",
   "execution_count": null,
   "metadata": {},
   "outputs": [],
   "source": [
    "frequencies = np.logspace(-10,20,1000)\n",
    "times = np.logspace(-15, 0, 100)\n",
    "\n",
    "func_arr = inv_sqrt(frequencies)\n",
    "\n",
    "print(f\"\"\"\n",
    "Important: frequencies is a 1D array, and its length must be equal to the first dimension of func_arr. This is the case here:\n",
    " frequencies.shape = {frequencies.shape}\n",
    " func_arr.shape = {func_arr.shape}\n",
    "\n",
    "times must also be a 1D array, and can have any length:\n",
    " times.shape = {times.shape}\n",
    "\"\"\")"
   ]
  },
  {
   "attachments": {},
   "cell_type": "markdown",
   "metadata": {},
   "source": [
    "#### Compute Fourier integral\n",
    "\n",
    "Input the arrays defined above.\n",
    "\n",
    "The parameter `pos_inf_correction_term` enables using a Taylor expansion around the final func value to add a correction term for the part of the integral above the highest frequency and up to $+\\infty$.  The corresponding `neg_inf_correction_term` does the same from the lowest (closest to $-\\infty$) frequency to $-\\infty$. In our case here, we will not use the `neg_inf_correction_term`, as we only integrate over the half-range $(0, +\\infty)$.\n",
    "\n",
    "The `interpolation` parameter must be `\"pchip\"` or `\"linear\"`, and selects an algorithm to interpolate the function data before the integral. `\"pchip\"` should be a good choice in most cases."
   ]
  },
  {
   "cell_type": "code",
   "execution_count": null,
   "metadata": {},
   "outputs": [],
   "source": [
    "transform_arr = nft.fourier_integral_fixed_sampling(\n",
    "    times=times,\n",
    "    frequencies=frequencies,\n",
    "    func_values=func_arr,\n",
    "    pos_inf_correction_term=True,\n",
    "    neg_inf_correction_term=False,\n",
    "    interpolation=\"pchip\" # Feel free to change to \"linear\"\n",
    ")\n",
    "\n",
    "# Also make an array of the analytically expected values, for comparison\n",
    "transform_arr_analytic = inv_sqrt_analytic_integral(times)"
   ]
  },
  {
   "attachments": {},
   "cell_type": "markdown",
   "metadata": {},
   "source": [
    "#### Plot the results\n",
    "See the comments for lines that can be changed for other interesting plots."
   ]
  },
  {
   "cell_type": "code",
   "execution_count": null,
   "metadata": {},
   "outputs": [],
   "source": [
    "# Select component to plot, feel free to change np.real to e.g. np.imag, np.abs, or np.angle\n",
    "f1 = np.real(transform_arr)\n",
    "f2 = np.real(transform_arr_analytic)\n",
    "\n",
    "# Select a difference metric, either relative_diff or absolute_diff\n",
    "diff = relative_diff \n",
    "\n",
    "\n",
    "fig, (ax1, ax2) = plt.subplots(1,2,figsize=(14,5))\n",
    "ax1.plot(times, f1, \"-o\", markersize=4, label=\"neffint\")\n",
    "ax1.plot(times, f2, \"x\", markersize=4, label=\"analytic\")\n",
    "ax1.semilogx() # Feel free to change to ax1.loglog\n",
    "ax1.legend()\n",
    "ax1.set_title(\"Fourier transform outputs\")\n",
    "ax1.set_xlabel(\"t /s\")\n",
    "\n",
    "ax2.plot(times, diff(f1, f2), \"-o\", markersize=4, label=\" \")\n",
    "ax2.loglog()\n",
    "ax2.legend()\n",
    "ax2.set_title(diff.__doc__)\n",
    "ax2.set_xlabel(\"t /s\")\n",
    "\n",
    "plt.tight_layout()\n",
    "plt.show()"
   ]
  }
 ],
 "metadata": {
  "kernelspec": {
   "display_name": "neffint",
   "language": "python",
   "name": "python3"
  },
  "language_info": {
   "codemirror_mode": {
    "name": "ipython",
    "version": 3
   },
   "file_extension": ".py",
   "mimetype": "text/x-python",
   "name": "python",
   "nbconvert_exporter": "python",
   "pygments_lexer": "ipython3",
   "version": "3.7.12"
  },
  "orig_nbformat": 4
 },
 "nbformat": 4,
 "nbformat_minor": 2
}
