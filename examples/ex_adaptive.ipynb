{
 "cells": [
  {
   "attachments": {},
   "cell_type": "markdown",
   "metadata": {},
   "source": [
    "# Example usage of fixed grid Fourier integration\n",
    "\n",
    "This notebook shows how `neffint.fourier_integral_fixed_sampling` can be used to calculate fourier integrals. This function is well suited for computing the fourier integrals of functions on a already defined frequency grid which captures all important features of the function to be transformed. More precisely, interpolating the function over the the given frequencies should give an interpolating polynomial which closely approximates the function itself."
   ]
  },
  {
   "attachments": {},
   "cell_type": "markdown",
   "metadata": {},
   "source": [
    "#### Do imports"
   ]
  },
  {
   "cell_type": "code",
   "execution_count": null,
   "metadata": {},
   "outputs": [],
   "source": [
    "import matplotlib.pyplot as plt\n",
    "import numpy as np\n",
    "from numpy.typing import ArrayLike\n",
    "\n",
    "import neffint as nft"
   ]
  },
  {
   "attachments": {},
   "cell_type": "markdown",
   "metadata": {},
   "source": [
    "#### Define some functions to measure error"
   ]
  },
  {
   "cell_type": "code",
   "execution_count": null,
   "metadata": {},
   "outputs": [],
   "source": [
    "def relative_diff(x: float, y: float) -> float:\n",
    "    \"\"\"Relative difference\"\"\"\n",
    "    if max(abs(x), abs(y)) == 0:\n",
    "        return 0\n",
    "    return abs(x-y)/max(abs(x), abs(y))\n",
    "relative_diff = np.vectorize(relative_diff)\n",
    "\n",
    "def absolute_diff(x: ArrayLike, y: ArrayLike):\n",
    "    \"\"\"Absolute difference\"\"\"\n",
    "    return np.abs(x-y)"
   ]
  },
  {
   "attachments": {},
   "cell_type": "markdown",
   "metadata": {},
   "source": [
    "#### Define a function\n",
    "\n",
    "Here, we choose a function where we know analytically what the fourier integral is. Of course, in a real setting, you would choose a function without an analytically computable fourier integral."
   ]
  },
  {
   "cell_type": "code",
   "execution_count": null,
   "metadata": {},
   "outputs": [],
   "source": [
    "def inv_sqrt(f: ArrayLike) -> ArrayLike:\n",
    "    return 1 / np.sqrt(2*np.pi*f)\n",
    "\n",
    "# The analytic fourier integral of inv_sqrt\n",
    "def inv_sqrt_analytic_integral(t: ArrayLike):\n",
    "    return np.sqrt(np.pi / (2 * t))\n"
   ]
  },
  {
   "attachments": {},
   "cell_type": "markdown",
   "metadata": {},
   "source": [
    "#### Define frequencies and times\n",
    "Define some frequencies as a starting point for the algorithm. It is possible to do as is done here and only provide two frequencies, and still get decent results. It is however *recommended* to follow the following two guidelines when giving an initial frequency array:\n",
    "1. **Make sure all important features of the function are within the endpoints of your array**. The algorithm does a simple scan to higher and lower frequencies, but it is better at adding helpful points to the interior of the initial range.\n",
    "2. **Try to supply a good initial guess of frequencies** that capture the important features of the function. The algorithm starts with doing a rough scan to search for features, then gradually hones in on a finer mesh around the features it finds. However, if there is too much space between the points in the starting array, the rough scan might miss important features.\n",
    "\n",
    "Examples of the effect of these guidelines will be showed below.\n",
    "\n",
    "Also define the times you want to calculate the integral for."
   ]
  },
  {
   "cell_type": "code",
   "execution_count": null,
   "metadata": {},
   "outputs": [],
   "source": [
    "# Here we only supply 2 frequencies\n",
    "# In doing so, we break with the second guideline\n",
    "# We still try to follow the first guideline by having the frequencies span a huge range.\n",
    "frequencies = (1e-10, 1e20)\n",
    "\n",
    "times = np.logspace(-15, 0, 100)"
   ]
  },
  {
   "attachments": {},
   "cell_type": "markdown",
   "metadata": {},
   "source": [
    "#### Define interpolation error metric\n",
    "\n",
    "A function must be provided that reduces the output interpolation error down to only the frequency dimension, and applies some error metric. For functions with 1D outputs, this will most often just be the absolute difference between the function and the interpolant. For multidimensional outputs, it might for example be the rms error at each frequency, the maximum error at each frequency, or some weighted average."
   ]
  },
  {
   "cell_type": "code",
   "execution_count": null,
   "metadata": {},
   "outputs": [],
   "source": [
    "interpolation_error_metric = lambda func_output, interpolant_output: np.abs(func_output - interpolant_output)"
   ]
  },
  {
   "attachments": {},
   "cell_type": "markdown",
   "metadata": {},
   "source": [
    "#### Use adaptive algorithm to compute fourier integral"
   ]
  },
  {
   "cell_type": "code",
   "execution_count": null,
   "metadata": {},
   "outputs": [],
   "source": [
    "frequencies, func_arr = nft.improve_frequency_range(\n",
    "    times=times,\n",
    "    initial_frequencies=frequencies,\n",
    "    func=inv_sqrt,\n",
    "    interpolation_error_metric=interpolation_error_metric,\n",
    "    absolute_integral_tolerance=1e0, # The absolute tolerance the algorithm tries to get the error below\n",
    "    frequency_bound_scan_logstep=2**0.2, # The multiplicative step size used to scan for higher and lower frequencies to add\n",
    "    bisection_mode_condition=None # None (the default) here gives only logarithmic bisection when adding internal points\n",
    ")\n",
    "\n",
    "transform_arr = nft.fourier_integral_fixed_sampling(\n",
    "        times=times,\n",
    "        frequencies=frequencies,\n",
    "        func_values=func_arr,\n",
    "        inf_correction_term=True,\n",
    "        interpolation=\"pchip\"\n",
    "    )\n",
    "\n",
    "# The two steps above are also combined into the function fourier_integral_adaptive, if one is not interested in the frequencies and func_values used for the Fourier integral itself.\n",
    "\n",
    "# Also make an array of the analytically expected values, for comparison\n",
    "transform_arr_analytic = inv_sqrt_analytic_integral(times)"
   ]
  },
  {
   "attachments": {},
   "cell_type": "markdown",
   "metadata": {},
   "source": [
    "#### Check out the intermediate results"
   ]
  },
  {
   "cell_type": "code",
   "execution_count": null,
   "metadata": {},
   "outputs": [],
   "source": [
    "print(f\"The final number of frequencies: {len(frequencies)}\")\n",
    "\n",
    "fig, ax1 = plt.subplots()\n",
    "ax2 = ax1.twinx()\n",
    "\n",
    "# To see the results on a linear scale, change the two lines below\n",
    "ax1.set_xscale(\"log\") # \"log\" -> \"linear\"\n",
    "bins = np.geomspace(frequencies[0], frequencies[-1], 50) # np.geomspace -> np.linspace (with the same arguments)\n",
    "\n",
    "ax1.hist(frequencies, bins=bins)\n",
    "ax1.set_ylabel(\"# frequencies in refined array\")\n",
    "\n",
    "ax2.plot(frequencies[::100], inv_sqrt(frequencies[::100]), \"r\")\n",
    "ax2.set_yscale(\"log\")\n",
    "ax2.set_ylabel(\"func(frequencies)\")\n",
    "\n",
    "ax1.set_xlabel(\"frequencies\")\n",
    "plt.show()"
   ]
  },
  {
   "attachments": {},
   "cell_type": "markdown",
   "metadata": {},
   "source": [
    "#### Plot the transform"
   ]
  },
  {
   "cell_type": "code",
   "execution_count": null,
   "metadata": {},
   "outputs": [],
   "source": [
    "# Select component to plot, feel free to change np.real to e.g. np.imag, np.abs, or np.angle\n",
    "f1 = np.real(transform_arr)\n",
    "f2 = np.real(transform_arr_analytic)\n",
    "\n",
    "# Select a difference metric, either relative_diff or absolute_diff\n",
    "# With absolute_diff, you should hopefully see that all the points have less than 1e0 (tolerance) error\n",
    "diff = absolute_diff \n",
    "\n",
    "\n",
    "fig, (ax1, ax2) = plt.subplots(1,2,figsize=(14,5))\n",
    "ax1.plot(times, f1, \"-o\", markersize=4, label=\"neffint\")\n",
    "ax1.plot(times, f2, \"-o\", markersize=4, label=\"analytic\")\n",
    "ax1.semilogx() # Feel free to change to ax1.loglog\n",
    "ax1.legend()\n",
    "ax1.set_title(\"Fourier transform outputs\")\n",
    "ax1.set_xlabel(\"t /s\")\n",
    "\n",
    "ax2.plot(times, diff(f1, f2), \"-o\", markersize=4)\n",
    "ax2.loglog()\n",
    "ax2.set_title(diff.__doc__)\n",
    "ax2.set_xlabel(\"t /s\")\n",
    "\n",
    "plt.tight_layout()\n",
    "plt.show()"
   ]
  },
  {
   "attachments": {},
   "cell_type": "markdown",
   "metadata": {},
   "source": [
    "# TODO: ADD EXAMPLES OF BAD FREQUENCY INPUTS\n",
    "\n",
    "- Too short range (too high low freq, or too low high freq)\n",
    "- Too few freqs\n"
   ]
  }
 ],
 "metadata": {
  "kernelspec": {
   "display_name": "neffint",
   "language": "python",
   "name": "python3"
  },
  "language_info": {
   "codemirror_mode": {
    "name": "ipython",
    "version": 3
   },
   "file_extension": ".py",
   "mimetype": "text/x-python",
   "name": "python",
   "nbconvert_exporter": "python",
   "pygments_lexer": "ipython3",
   "version": "3.7.12"
  },
  "orig_nbformat": 4
 },
 "nbformat": 4,
 "nbformat_minor": 2
}
